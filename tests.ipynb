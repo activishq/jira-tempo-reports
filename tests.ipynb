{
 "cells": [
  {
   "cell_type": "code",
   "execution_count": 1,
   "metadata": {},
   "outputs": [],
   "source": [
    "import sys\n",
    "from pathlib import Path\n",
    "from datetime import datetime\n",
    "import pandas as pd"
   ]
  },
  {
   "cell_type": "code",
   "execution_count": 2,
   "metadata": {},
   "outputs": [],
   "source": [
    "project_root = Path.cwd().parent  # Ajustez ceci si nécessaire\n",
    "sys.path.append(str(project_root))\n",
    "\n",
    "from reports.combined_reports import JiraTempoReport"
   ]
  },
  {
   "cell_type": "code",
   "execution_count": 3,
   "metadata": {},
   "outputs": [
    {
     "name": "stdout",
     "output_type": "stream",
     "text": [
      "Plage de dates : du 2024-08-01 au 2024-10-14\n"
     ]
    }
   ],
   "source": [
    "def get_date_range():\n",
    "    end_date = datetime.now().date()\n",
    "    start_date = datetime(end_date.year, 8, 1).date()\n",
    "    if end_date < start_date:\n",
    "        start_date = start_date.replace(year=start_date.year - 1)\n",
    "    return start_date, end_date\n",
    "\n",
    "start_date, end_date = get_date_range()\n",
    "print(f\"Plage de dates : du {start_date} au {end_date}\")"
   ]
  },
  {
   "cell_type": "code",
   "execution_count": 4,
   "metadata": {},
   "outputs": [
    {
     "name": "stdout",
     "output_type": "stream",
     "text": [
      "Warning: Empty data for user Benoit Leboucher in the specified date range.\n",
      "Warning: Empty data for user Benoit Leboucher in the specified date range.\n",
      "Warning: Empty data for user Thierry Tanguay in the specified date range.\n",
      "Warning: Empty data for user Thierry Tanguay in the specified date range.\n",
      "Warning: Empty data for user Benoit Leboucher in the specified date range.\n",
      "Warning: Empty data for user Benoit Leboucher in the specified date range.\n",
      "Warning: Empty data for user Thierry Tanguay in the specified date range.\n",
      "Warning: Empty data for user Thierry Tanguay in the specified date range.\n",
      "Warning: Empty data for user Benoit Leboucher in the specified date range.\n",
      "Warning: Empty data for user Benoit Leboucher in the specified date range.\n",
      "Warning: Empty data for user Sonia Marquette in the specified date range.\n",
      "Warning: Empty data for user Sonia Marquette in the specified date range.\n",
      "Warning: Empty data for user Benoit Leboucher in the specified date range.\n",
      "Warning: Empty data for user Benoit Leboucher in the specified date range.\n",
      "Warning: Empty data for user Benoit Leboucher in the specified date range.\n",
      "Warning: Empty data for user Benoit Leboucher in the specified date range.\n",
      "Warning: Empty data for user Thierry Tanguay in the specified date range.\n",
      "Warning: Empty data for user Thierry Tanguay in the specified date range.\n",
      "Type de weekly_billable_hours : <class 'pandas.core.frame.DataFrame'>\n",
      "Nombre de lignes : 88\n",
      "Colonnes : Index(['user', 'week_start', 'billable_hours'], dtype='object')\n"
     ]
    }
   ],
   "source": [
    "jira_tempo_report = JiraTempoReport()\n",
    "weekly_billable_hours = jira_tempo_report.calculate_weekly_billable_hours(start_date.isoformat(), end_date.isoformat())\n",
    "\n",
    "print(f\"Type de weekly_billable_hours : {type(weekly_billable_hours)}\")\n",
    "print(f\"Nombre de lignes : {len(weekly_billable_hours)}\")\n",
    "print(f\"Colonnes : {weekly_billable_hours.columns}\")"
   ]
  },
  {
   "cell_type": "code",
   "execution_count": 5,
   "metadata": {},
   "outputs": [
    {
     "name": "stdout",
     "output_type": "stream",
     "text": [
      "               user week_start  billable_hours\n",
      "0   Sonia Marquette 2024-08-01           21.01\n",
      "1   Claire Conrardy 2024-08-01           26.00\n",
      "2  Benoit Leboucher 2024-08-01            0.00\n",
      "3       Eric Ferole 2024-08-01           20.50\n",
      "4  Laurence Cauchon 2024-08-01           34.23\n"
     ]
    }
   ],
   "source": [
    "# Affichez les premières lignes\n",
    "print(weekly_billable_hours.head())"
   ]
  },
  {
   "cell_type": "code",
   "execution_count": 6,
   "metadata": {},
   "outputs": [
    {
     "name": "stdout",
     "output_type": "stream",
     "text": [
      "user              0\n",
      "week_start        0\n",
      "billable_hours    0\n",
      "dtype: int64\n"
     ]
    }
   ],
   "source": [
    "print(weekly_billable_hours.isnull().sum())"
   ]
  },
  {
   "cell_type": "code",
   "execution_count": 7,
   "metadata": {},
   "outputs": [
    {
     "name": "stdout",
     "output_type": "stream",
     "text": [
      "                week_start  billable_hours\n",
      "count                   88       88.000000\n",
      "mean   2024-09-05 00:00:00       17.709773\n",
      "min    2024-08-01 00:00:00        0.000000\n",
      "25%    2024-08-15 00:00:00        5.687500\n",
      "50%    2024-09-05 00:00:00       20.755000\n",
      "75%    2024-09-26 00:00:00       29.835000\n",
      "max    2024-10-10 00:00:00       36.500000\n",
      "std                    NaN       12.401875\n"
     ]
    }
   ],
   "source": [
    "print(weekly_billable_hours.describe())"
   ]
  },
  {
   "cell_type": "code",
   "execution_count": 8,
   "metadata": {},
   "outputs": [
    {
     "name": "stdout",
     "output_type": "stream",
     "text": [
      "['Sonia Marquette' 'Claire Conrardy' 'Benoit Leboucher' 'Eric Ferole'\n",
      " 'Laurence Cauchon' 'Julien Le Mée' 'David Chabot' 'Thierry Tanguay']\n"
     ]
    }
   ],
   "source": [
    "print(weekly_billable_hours['user'].unique())"
   ]
  },
  {
   "cell_type": "code",
   "execution_count": 9,
   "metadata": {},
   "outputs": [
    {
     "name": "stdout",
     "output_type": "stream",
     "text": [
      "<DatetimeArray>\n",
      "['2024-08-01 00:00:00', '2024-08-08 00:00:00', '2024-08-15 00:00:00',\n",
      " '2024-08-22 00:00:00', '2024-08-29 00:00:00', '2024-09-05 00:00:00',\n",
      " '2024-09-12 00:00:00', '2024-09-19 00:00:00', '2024-09-26 00:00:00',\n",
      " '2024-10-03 00:00:00', '2024-10-10 00:00:00']\n",
      "Length: 11, dtype: datetime64[ns]\n"
     ]
    }
   ],
   "source": [
    "print(weekly_billable_hours['week_start'].unique())"
   ]
  },
  {
   "cell_type": "code",
   "execution_count": 10,
   "metadata": {},
   "outputs": [
    {
     "name": "stdout",
     "output_type": "stream",
     "text": [
      "user\n",
      "Benoit Leboucher    133.16\n",
      "Claire Conrardy     296.69\n",
      "David Chabot         73.34\n",
      "Eric Ferole         192.75\n",
      "Julien Le Mée       320.00\n",
      "Laurence Cauchon    325.77\n",
      "Sonia Marquette     190.15\n",
      "Thierry Tanguay      26.60\n",
      "Name: billable_hours, dtype: float64\n"
     ]
    }
   ],
   "source": [
    "print(weekly_billable_hours.groupby('user')['billable_hours'].sum())"
   ]
  },
  {
   "cell_type": "code",
   "execution_count": 12,
   "metadata": {},
   "outputs": [
    {
     "name": "stdout",
     "output_type": "stream",
     "text": [
      "                user week_start  billable_hours\n",
      "0    Sonia Marquette 2024-08-01           21.01\n",
      "1    Claire Conrardy 2024-08-01           26.00\n",
      "2   Benoit Leboucher 2024-08-01            0.00\n",
      "3        Eric Ferole 2024-08-01           20.50\n",
      "4   Laurence Cauchon 2024-08-01           34.23\n",
      "..               ...        ...             ...\n",
      "83       Eric Ferole 2024-10-10           11.00\n",
      "84  Laurence Cauchon 2024-10-10           11.25\n",
      "85     Julien Le Mée 2024-10-10           11.25\n",
      "86      David Chabot 2024-10-10            1.50\n",
      "87   Thierry Tanguay 2024-10-10            0.00\n",
      "\n",
      "[88 rows x 3 columns]\n"
     ]
    }
   ],
   "source": [
    "print(weekly_billable_hours)"
   ]
  },
  {
   "cell_type": "code",
   "execution_count": 13,
   "metadata": {},
   "outputs": [
    {
     "name": "stdout",
     "output_type": "stream",
     "text": [
      "               user week_start  billable_hours\n",
      "0   Sonia Marquette 2024-08-01           21.01\n",
      "1   Claire Conrardy 2024-08-01           26.00\n",
      "2  Benoit Leboucher 2024-08-01            0.00\n",
      "3       Eric Ferole 2024-08-01           20.50\n",
      "4  Laurence Cauchon 2024-08-01           34.23\n"
     ]
    }
   ],
   "source": [
    "# Affichez les premières lignes\n",
    "print(weekly_billable_hours.head())"
   ]
  },
  {
   "cell_type": "code",
   "execution_count": 14,
   "metadata": {},
   "outputs": [
    {
     "name": "stdout",
     "output_type": "stream",
     "text": [
      "\n",
      "Nombre de semaines par utilisateur:\n",
      "user\n",
      "Benoit Leboucher    11\n",
      "Claire Conrardy     11\n",
      "David Chabot        11\n",
      "Eric Ferole         11\n",
      "Julien Le Mée       11\n",
      "Laurence Cauchon    11\n",
      "Sonia Marquette     11\n",
      "Thierry Tanguay     11\n",
      "dtype: int64\n"
     ]
    }
   ],
   "source": [
    "# Affichez les utilisateurs uniques et le nombre de semaines pour chacun\n",
    "user_weeks = weekly_billable_hours.groupby('user').size().sort_values(ascending=False)\n",
    "print(\"\\nNombre de semaines par utilisateur:\")\n",
    "print(user_weeks)"
   ]
  },
  {
   "cell_type": "code",
   "execution_count": 15,
   "metadata": {},
   "outputs": [
    {
     "name": "stdout",
     "output_type": "stream",
     "text": [
      "\n",
      "Plage de dates:\n",
      "Début: 2024-08-01 00:00:00\n",
      "Fin: 2024-10-10 00:00:00\n"
     ]
    }
   ],
   "source": [
    "# Affichez la plage de dates couverte\n",
    "print(\"\\nPlage de dates:\")\n",
    "print(f\"Début: {weekly_billable_hours['week_start'].min()}\")\n",
    "print(f\"Fin: {weekly_billable_hours['week_start'].max()}\")"
   ]
  },
  {
   "cell_type": "code",
   "execution_count": 16,
   "metadata": {},
   "outputs": [
    {
     "name": "stdout",
     "output_type": "stream",
     "text": [
      "\n",
      "Nombre de valeurs nulles ou zéro:\n",
      "user\n",
      "Benoit Leboucher    5\n",
      "Sonia Marquette     1\n",
      "Thierry Tanguay     3\n",
      "dtype: int64\n"
     ]
    }
   ],
   "source": [
    "# Vérifiez s'il y a des valeurs nulles ou zéro\n",
    "print(\"\\nNombre de valeurs nulles ou zéro:\")\n",
    "print(weekly_billable_hours[weekly_billable_hours['billable_hours'].isin([0, None])].groupby('user').size())"
   ]
  },
  {
   "cell_type": "code",
   "execution_count": 17,
   "metadata": {},
   "outputs": [
    {
     "name": "stdout",
     "output_type": "stream",
     "text": [
      "\n",
      "Statistiques des heures facturables:\n",
      "count    88.000000\n",
      "mean     17.709773\n",
      "std      12.401875\n",
      "min       0.000000\n",
      "25%       5.687500\n",
      "50%      20.755000\n",
      "75%      29.835000\n",
      "max      36.500000\n",
      "Name: billable_hours, dtype: float64\n"
     ]
    }
   ],
   "source": [
    "# Affichez les statistiques de base pour les heures facturables\n",
    "print(\"\\nStatistiques des heures facturables:\")\n",
    "print(weekly_billable_hours['billable_hours'].describe())"
   ]
  },
  {
   "cell_type": "code",
   "execution_count": 18,
   "metadata": {},
   "outputs": [],
   "source": [
    "# Obtenir la liste complète des utilisateurs\n",
    "all_users = jira_tempo_report.jira_report.get_current_users()\n",
    "\n",
    "# Créer un DataFrame avec toutes les combinaisons possibles d'utilisateurs et de semaines\n",
    "all_weeks = pd.date_range(start=weekly_billable_hours['week_start'].min(),\n",
    "                          end=weekly_billable_hours['week_start'].max(),\n",
    "                          freq='W-MON')\n",
    "full_index = pd.MultiIndex.from_product([all_users, all_weeks],\n",
    "                                        names=['user', 'week_start'])\n",
    "\n",
    "# Réindexer le DataFrame avec l'index complet et remplir les valeurs manquantes avec 0\n",
    "complete_weekly_billable_hours = weekly_billable_hours.set_index(['user', 'week_start'])\\\n",
    "    .reindex(full_index, fill_value=0)\\\n",
    "    .reset_index()"
   ]
  },
  {
   "cell_type": "code",
   "execution_count": 19,
   "metadata": {},
   "outputs": [
    {
     "name": "stdout",
     "output_type": "stream",
     "text": [
      "Nombre de lignes après avoir comblé les données manquantes:\n",
      "80\n"
     ]
    }
   ],
   "source": [
    "print(\"Nombre de lignes après avoir comblé les données manquantes:\")\n",
    "print(len(complete_weekly_billable_hours))\n"
   ]
  },
  {
   "cell_type": "code",
   "execution_count": 20,
   "metadata": {},
   "outputs": [
    {
     "name": "stdout",
     "output_type": "stream",
     "text": [
      "\n",
      "Nombre de semaines par utilisateur après avoir comblé les données manquantes:\n",
      "user\n",
      "Benoit Leboucher    10\n",
      "Claire Conrardy     10\n",
      "David Chabot        10\n",
      "Eric Ferole         10\n",
      "Julien Le Mée       10\n",
      "Laurence Cauchon    10\n",
      "Sonia Marquette     10\n",
      "Thierry Tanguay     10\n",
      "dtype: int64\n"
     ]
    }
   ],
   "source": [
    "print(\"\\nNombre de semaines par utilisateur après avoir comblé les données manquantes:\")\n",
    "print(complete_weekly_billable_hours.groupby('user').size())\n"
   ]
  },
  {
   "cell_type": "code",
   "execution_count": 21,
   "metadata": {},
   "outputs": [
    {
     "name": "stdout",
     "output_type": "stream",
     "text": [
      "\n",
      "Statistiques des heures facturables après avoir comblé les données manquantes:\n",
      "count    80.0\n",
      "mean      0.0\n",
      "std       0.0\n",
      "min       0.0\n",
      "25%       0.0\n",
      "50%       0.0\n",
      "75%       0.0\n",
      "max       0.0\n",
      "Name: billable_hours, dtype: float64\n"
     ]
    }
   ],
   "source": [
    "print(\"\\nStatistiques des heures facturables après avoir comblé les données manquantes:\")\n",
    "print(complete_weekly_billable_hours['billable_hours'].describe())"
   ]
  },
  {
   "cell_type": "code",
   "execution_count": 22,
   "metadata": {},
   "outputs": [
    {
     "name": "stdout",
     "output_type": "stream",
     "text": [
      "               user week_start  billable_hours  non_billable_hours  \\\n",
      "0   Sonia Marquette 2024-08-01           21.01                   0   \n",
      "1   Claire Conrardy 2024-08-01           26.00                   0   \n",
      "2  Benoit Leboucher 2024-08-01            0.00                   0   \n",
      "3       Eric Ferole 2024-08-01           20.50                   0   \n",
      "4  Laurence Cauchon 2024-08-01           34.23                   0   \n",
      "\n",
      "   total_hours  \n",
      "0        21.01  \n",
      "1        26.00  \n",
      "2         0.00  \n",
      "3        20.50  \n",
      "4        34.23  \n"
     ]
    }
   ],
   "source": [
    "# Assurez-vous que toutes les colonnes nécessaires sont présentes\n",
    "weekly_billable_hours['non_billable_hours'] = 0  # Ajoutez cette colonne si elle n'existe pas\n",
    "weekly_billable_hours['total_hours'] = weekly_billable_hours['billable_hours']  # Supposons que total_hours = billable_hours\n",
    "\n",
    "# Convertissez la colonne 'week_start' en datetime si ce n'est pas déjà fait\n",
    "weekly_billable_hours['week_start'] = pd.to_datetime(weekly_billable_hours['week_start'])\n",
    "\n",
    "# Affichez les premières lignes pour vérification\n",
    "print(weekly_billable_hours.head())"
   ]
  },
  {
   "cell_type": "code",
   "execution_count": 23,
   "metadata": {},
   "outputs": [
    {
     "name": "stdout",
     "output_type": "stream",
     "text": [
      "user                          object\n",
      "week_start            datetime64[ns]\n",
      "billable_hours               float64\n",
      "non_billable_hours             int64\n",
      "total_hours                  float64\n",
      "dtype: object\n"
     ]
    }
   ],
   "source": [
    "# Vérifiez les types de données\n",
    "print(weekly_billable_hours.dtypes)"
   ]
  },
  {
   "cell_type": "code",
   "execution_count": null,
   "metadata": {},
   "outputs": [],
   "source": []
  }
 ],
 "metadata": {
  "kernelspec": {
   "display_name": "jira-report-streamlit",
   "language": "python",
   "name": "python3"
  },
  "language_info": {
   "codemirror_mode": {
    "name": "ipython",
    "version": 3
   },
   "file_extension": ".py",
   "mimetype": "text/x-python",
   "name": "python",
   "nbconvert_exporter": "python",
   "pygments_lexer": "ipython3",
   "version": "3.10.6"
  }
 },
 "nbformat": 4,
 "nbformat_minor": 2
}
